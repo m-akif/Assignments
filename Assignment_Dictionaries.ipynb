{
 "cells": [
  {
   "cell_type": "markdown",
   "metadata": {},
   "source": [
    "**(1)** İçerisinde 7 günün bulunduğu bir sözlük oluşturun. Kullanıcıya günleri listeleyerek 2 farklı gün seçmesini isteyin (örneğin pazartesi ve salı için \"12\" gibi). Kullanıcının seçtiği günleri sözlükten silerek kalan 5 günü ekrana yazdırın."
   ]
  },
  {
   "cell_type": "code",
   "execution_count": 7,
   "metadata": {},
   "outputs": [
    {
     "name": "stdout",
     "output_type": "stream",
     "text": [
      "Silmek istediğiniz iki günün numarasını seçin (Ör: '12'): 25\n",
      "{1: 'Pazartesi', 3: 'Çarşamba', 4: 'Perşembe', 6: 'Cumartesi', 7: 'Pazar'}\n"
     ]
    }
   ],
   "source": [
    "gunler={1:'Pazartesi',2:'Salı',3:'Çarşamba',4:'Perşembe',5:'Cuma',6:'Cumartesi',7:'Pazar'}\n",
    "\n",
    "silinecek_gunler=input(\"Silmek istediğiniz iki günün numarasını seçin (Ör: '12'): \")\n",
    "\n",
    "del gunler[int(silinecek_gunler[0])]\n",
    "\n",
    "del gunler[int(silinecek_gunler[1])]\n",
    "\n",
    "print(gunler)"
   ]
  },
  {
   "cell_type": "markdown",
   "metadata": {},
   "source": [
    "**(2)** Aşağıdaki bilgiler içeren bir sözlük oluşturun. Anahtar olarak isimleri kullanın.\n",
    "\n",
    "|Name|Age|Sex|\n",
    "|---|---|--|\n",
    "|John|25|Male|\n",
    "|Lisa|28|Female|\n",
    "|Linda|32|Female|\n",
    "|Michael|41|Male|"
   ]
  },
  {
   "cell_type": "code",
   "execution_count": 10,
   "metadata": {},
   "outputs": [
    {
     "name": "stdout",
     "output_type": "stream",
     "text": [
      "{'John': {'Age': 25, 'Sex': 'Male'}, 'lisa': {'Age': 28, 'Sex': 'Female'}, 'Linda': {'Age': 32, 'Sex': 'Female'}, 'Michael': {'Age': 41, 'Sex': 'Male'}}\n"
     ]
    }
   ],
   "source": [
    "sozluk={'John':{'Age':25,'Sex':'Male'},'lisa':{'Age':28,'Sex':'Female'},\n",
    "        'Linda':{'Age':32,'Sex':'Female'},'Michael':{'Age':41,'Sex':'Male'}}\n",
    "print(sozluk)"
   ]
  },
  {
   "cell_type": "markdown",
   "metadata": {},
   "source": [
    "**(3)** Michael ve Linda'ya çocuk bilgisi ekleyin. Michael'in iki 12 yaşında Karen isminde bir kızı ve 7 yaşında Greg isminde bir oğlu, Linda'nın ise 6 yaşında Susan isminde bir kızı var."
   ]
  },
  {
   "cell_type": "code",
   "execution_count": 14,
   "metadata": {},
   "outputs": [
    {
     "name": "stdout",
     "output_type": "stream",
     "text": [
      "{'John': {'Age': 25, 'Sex': 'Male'}, 'lisa': {'Age': 28, 'Sex': 'Female'}, 'Linda': {'Age': 32, 'Sex': 'Female', 'Çocuk': {'Susan': {'Age': 6, 'Sex': 'Female'}}}, 'Michael': {'Age': 41, 'Sex': 'Male', 'Çocuk': {'Karen': {'Age': 12, 'Sex': 'Female'}, 'Greg': {'Age': 7, 'Sex': 'Male'}}}}\n"
     ]
    }
   ],
   "source": [
    "sozluk['Michael']['Çocuk']={'Karen':{'Age':12,'Sex':'Female'},'Greg':{'Age':7,'Sex':'Male'}}\n",
    "sozluk['Linda']['Çocuk']={'Susan':{'Age':6,'Sex':'Female'}}\n",
    "\n",
    "print(sozluk)"
   ]
  },
  {
   "cell_type": "markdown",
   "metadata": {},
   "source": [
    "**(4)** Michael'ın çocuklarının adlarını yazdırın."
   ]
  },
  {
   "cell_type": "code",
   "execution_count": 18,
   "metadata": {},
   "outputs": [
    {
     "name": "stdout",
     "output_type": "stream",
     "text": [
      "dict_keys(['Karen', 'Greg'])\n"
     ]
    }
   ],
   "source": [
    "print(sozluk['Michael']['Çocuk'].keys())"
   ]
  }
 ],
 "metadata": {
  "kernelspec": {
   "display_name": "Python 3",
   "language": "python",
   "name": "python3"
  },
  "language_info": {
   "codemirror_mode": {
    "name": "ipython",
    "version": 3
   },
   "file_extension": ".py",
   "mimetype": "text/x-python",
   "name": "python",
   "nbconvert_exporter": "python",
   "pygments_lexer": "ipython3",
   "version": "3.7.1"
  }
 },
 "nbformat": 4,
 "nbformat_minor": 2
}
