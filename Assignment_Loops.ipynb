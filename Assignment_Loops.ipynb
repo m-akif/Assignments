{
 "cells": [
  {
   "cell_type": "markdown",
   "metadata": {},
   "source": [
    "**1-**Kullanıcının girdiği kelimeyi ters çeviren bir kod yazınız.\n",
    " Örnek : \"otobüs\" --> \"süboto"
   ]
  },
  {
   "cell_type": "code",
   "execution_count": 1,
   "metadata": {},
   "outputs": [
    {
     "name": "stdout",
     "output_type": "stream",
     "text": [
      "Bir kelime yazın:otobüs\n",
      "süboto\n"
     ]
    }
   ],
   "source": [
    "kelime=input(\"Bir kelime yazın:\")\n",
    "print(kelime[::-1])"
   ]
  },
  {
   "cell_type": "markdown",
   "metadata": {},
   "source": [
    "**2-**Girilen bir sayı için çarpım tablosunu yazdırın.\n",
    "     Örnek : Bir sayı girin : 6\n",
    "            \n",
    "             6 x 1 = 6                                                               \n",
    "             6 x 2 = 12                                                              \n",
    "             6 x 3 = 18                                                              \n",
    "             6 x 4 = 24                                                              \n",
    "             6 x 5 = 30                                                              \n",
    "             6 x 6 = 36                                                              \n",
    "             6 x 7 = 42                                                              \n",
    "             6 x 8 = 48                                                              \n",
    "             6 x 9 = 54                                                              \n",
    "             6 x 10 = 60"
   ]
  },
  {
   "cell_type": "code",
   "execution_count": 2,
   "metadata": {},
   "outputs": [
    {
     "name": "stdout",
     "output_type": "stream",
     "text": [
      "Bir sayı girin:6\n",
      "6 x 0 = 0\n",
      "6 x 1 = 6\n",
      "6 x 2 = 12\n",
      "6 x 3 = 18\n",
      "6 x 4 = 24\n",
      "6 x 5 = 30\n",
      "6 x 6 = 36\n",
      "6 x 7 = 42\n",
      "6 x 8 = 48\n",
      "6 x 9 = 54\n",
      "6 x 10 = 60\n"
     ]
    }
   ],
   "source": [
    "sayi=int(input(\"Bir sayı girin:\"))\n",
    "\n",
    "for i in range(11):\n",
    "    print(\"{} x {} = {}\".format(sayi,i,i*sayi))"
   ]
  },
  {
   "cell_type": "markdown",
   "metadata": {},
   "source": [
    "**3-**List comprehension kullanarak, 1'den 20'ye kadar tek sayıların karesini, çift sayıların küpünü içeren bir liste oluşturun."
   ]
  },
  {
   "cell_type": "code",
   "execution_count": 3,
   "metadata": {},
   "outputs": [
    {
     "name": "stdout",
     "output_type": "stream",
     "text": [
      "[1, 8, 9, 64, 25, 216, 49, 512, 81, 1000, 121, 1728, 169, 2744, 225, 4096, 289, 5832, 361, 8000]\n"
     ]
    }
   ],
   "source": [
    "liste = [x**3 if x % 2 == 0 else x**2 for x in range(1,21)]\n",
    "\n",
    "print(liste)"
   ]
  },
  {
   "cell_type": "markdown",
   "metadata": {},
   "source": [
    "**4-**1'den 200'e kadar olan sayıları (range()) kullanarak tek sayılar ve çift sayılar olmak üzere iki liste oluşturun."
   ]
  },
  {
   "cell_type": "code",
   "execution_count": 4,
   "metadata": {},
   "outputs": [
    {
     "name": "stdout",
     "output_type": "stream",
     "text": [
      "[0, 2, 4, 6, 8, 10, 12, 14, 16, 18, 20, 22, 24, 26, 28, 30, 32, 34, 36, 38, 40, 42, 44, 46, 48, 50, 52, 54, 56, 58, 60, 62, 64, 66, 68, 70, 72, 74, 76, 78, 80, 82, 84, 86, 88, 90, 92, 94, 96, 98, 100, 102, 104, 106, 108, 110, 112, 114, 116, 118, 120, 122, 124, 126, 128, 130, 132, 134, 136, 138, 140, 142, 144, 146, 148, 150, 152, 154, 156, 158, 160, 162, 164, 166, 168, 170, 172, 174, 176, 178, 180, 182, 184, 186, 188, 190, 192, 194, 196, 198]\n",
      "[1, 3, 5, 7, 9, 11, 13, 15, 17, 19, 21, 23, 25, 27, 29, 31, 33, 35, 37, 39, 41, 43, 45, 47, 49, 51, 53, 55, 57, 59, 61, 63, 65, 67, 69, 71, 73, 75, 77, 79, 81, 83, 85, 87, 89, 91, 93, 95, 97, 99, 101, 103, 105, 107, 109, 111, 113, 115, 117, 119, 121, 123, 125, 127, 129, 131, 133, 135, 137, 139, 141, 143, 145, 147, 149, 151, 153, 155, 157, 159, 161, 163, 165, 167, 169, 171, 173, 175, 177, 179, 181, 183, 185, 187, 189, 191, 193, 195, 197, 199]\n"
     ]
    }
   ],
   "source": [
    "cift_sayilar = []\n",
    "tek_sayilar = []\n",
    "\n",
    "for n in range(200):\n",
    "    if n % 2 == 0:\n",
    "        cift_sayilar.append(n)\n",
    "    else:\n",
    "        tek_sayilar.append(n)\n",
    "\n",
    "print(cift_sayilar)\n",
    "print(tek_sayilar)"
   ]
  },
  {
   "cell_type": "markdown",
   "metadata": {},
   "source": [
    "**5-**Kullanıcıdan alınacak iki sayının OBEB ve OKEK'ini bulan bir program yazın."
   ]
  },
  {
   "cell_type": "code",
   "execution_count": 5,
   "metadata": {},
   "outputs": [
    {
     "name": "stdout",
     "output_type": "stream",
     "text": [
      "Bir sayı girin: 20\n",
      "İkinci sayıyı girin: 50\n",
      "OBEB(20, 50): 10\n",
      "OKEK(20, 50): 100\n"
     ]
    }
   ],
   "source": [
    "sayi1 = int(input(\"Bir sayı girin: \"))\n",
    "sayi2 = int(input(\"İkinci sayıyı girin: \"))\n",
    " \n",
    "OKEK = 0\n",
    "OBEB = 0\n",
    "k = 0\n",
    " \n",
    "if sayi1 < sayi2:                   \n",
    "    k = sayi2\n",
    "else:\n",
    "    k = sayi1 \n",
    " \n",
    "while k <= sayi1 * sayi2:            \n",
    "    if k % sayi1 == 0 and k % sayi2 == 0:\n",
    "         OKEK = k\n",
    "         break                      \n",
    "    k = k +1\n",
    " \n",
    "if sayi1 > sayi2:\n",
    "    k = sayi2\n",
    "else:\n",
    "    k = sayi1                       \n",
    " \n",
    "while k > 0:                        \n",
    "    if sayi1 % k == 0 and sayi2 % k == 0:\n",
    "        OBEB = k\n",
    "        break                       \n",
    "    k = k - 1\n",
    " \n",
    "print('OBEB({}, {}):'.format(sayi1, sayi2), OBEB)\n",
    "print('OKEK({}, {}):'.format(sayi1, sayi2), OKEK)"
   ]
  },
  {
   "cell_type": "code",
   "execution_count": null,
   "metadata": {},
   "outputs": [],
   "source": []
  }
 ],
 "metadata": {
  "kernelspec": {
   "display_name": "Python 3",
   "language": "python",
   "name": "python3"
  },
  "language_info": {
   "codemirror_mode": {
    "name": "ipython",
    "version": 3
   },
   "file_extension": ".py",
   "mimetype": "text/x-python",
   "name": "python",
   "nbconvert_exporter": "python",
   "pygments_lexer": "ipython3",
   "version": "3.7.1"
  }
 },
 "nbformat": 4,
 "nbformat_minor": 2
}
