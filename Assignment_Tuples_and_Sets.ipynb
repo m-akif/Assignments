{
 "cells": [
  {
   "cell_type": "markdown",
   "metadata": {},
   "source": [
    "**(1)** hafta adında hafta içi günlerini içeren bir tuple oluşturun."
   ]
  },
  {
   "cell_type": "code",
   "execution_count": 11,
   "metadata": {},
   "outputs": [
    {
     "name": "stdout",
     "output_type": "stream",
     "text": [
      "('Sunday', 'Monday', 'Tuesday', 'Wednesday', 'Thursday', 'Friday', 'Saturday')\n"
     ]
    }
   ],
   "source": [
    "week=('Sunday','Monday','Tuesday','Wednesday','Thursday','Friday','Saturday')\n",
    "print(week)"
   ]
  },
  {
   "cell_type": "markdown",
   "metadata": {},
   "source": [
    "**(2)** fruits adında \"elma\", \"mango\" ve \"portakal\" meyvelerini içeren bir küme oluşturun."
   ]
  },
  {
   "cell_type": "code",
   "execution_count": 12,
   "metadata": {},
   "outputs": [
    {
     "name": "stdout",
     "output_type": "stream",
     "text": [
      "{'portakal', 'elma', 'mango'}\n"
     ]
    }
   ],
   "source": [
    "fruits=set(['mango','elma','portakal'])\n",
    "print(fruits)"
   ]
  },
  {
   "cell_type": "markdown",
   "metadata": {},
   "source": [
    "**(3)** new_fruits adında \"kiraz\", \"şeftali\", \"elma\" ve \"mango\" meyvelerini içeren ikinci bir küme oluşturun."
   ]
  },
  {
   "cell_type": "code",
   "execution_count": 13,
   "metadata": {},
   "outputs": [
    {
     "name": "stdout",
     "output_type": "stream",
     "text": [
      "{'kiraz', 'şeftali', 'mango', 'elma'}\n"
     ]
    }
   ],
   "source": [
    "new_fruits=set(['kiraz','şeftali','elma','mango'])\n",
    "print(new_fruits)"
   ]
  },
  {
   "cell_type": "markdown",
   "metadata": {},
   "source": [
    "**(4)** new_fruitsda olan meyvelerde olmayan meyveleri bulun."
   ]
  },
  {
   "cell_type": "code",
   "execution_count": 14,
   "metadata": {},
   "outputs": [
    {
     "name": "stdout",
     "output_type": "stream",
     "text": [
      "Sadece yeni meyvelerde olanlar: {'kiraz', 'şeftali'}\n"
     ]
    }
   ],
   "source": [
    "print(\"Sadece yeni meyvelerde olanlar:\",new_fruits.difference(fruits))"
   ]
  },
  {
   "cell_type": "markdown",
   "metadata": {},
   "source": [
    "**(5)** Her ikisinde de olan meyveleri bulun."
   ]
  },
  {
   "cell_type": "code",
   "execution_count": 15,
   "metadata": {},
   "outputs": [
    {
     "name": "stdout",
     "output_type": "stream",
     "text": [
      "Her ikisinde olan meyveler: {'mango', 'elma'}\n"
     ]
    }
   ],
   "source": [
    "print(\"Her ikisinde olan meyveler:\",new_fruits.intersection(fruits))"
   ]
  },
  {
   "cell_type": "code",
   "execution_count": null,
   "metadata": {},
   "outputs": [],
   "source": []
  }
 ],
 "metadata": {
  "kernelspec": {
   "display_name": "Python 3",
   "language": "python",
   "name": "python3"
  },
  "language_info": {
   "codemirror_mode": {
    "name": "ipython",
    "version": 3
   },
   "file_extension": ".py",
   "mimetype": "text/x-python",
   "name": "python",
   "nbconvert_exporter": "python",
   "pygments_lexer": "ipython3",
   "version": "3.7.1"
  }
 },
 "nbformat": 4,
 "nbformat_minor": 2
}
