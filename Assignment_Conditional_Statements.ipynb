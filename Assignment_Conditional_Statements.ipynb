{
 "cells": [
  {
   "cell_type": "markdown",
   "metadata": {},
   "source": [
    "**1-**Kullanıcıdan Santigrat ya da Fahrenheit olarak sıcaklık değerini alacak ve diğer sıcaklık birimine çevirecek bir kod yazın. Dönüşüm için C = (5/9) * (F - 32) formülünü kullanabilirsiniz.\n",
    "\n",
    "  Örnek : \"40C\" --> \"104F\"\n",
    "          \"52F\" --> \"11.1\""
   ]
  },
  {
   "cell_type": "code",
   "execution_count": 1,
   "metadata": {},
   "outputs": [
    {
     "name": "stdout",
     "output_type": "stream",
     "text": [
      "Dönüştürmek istediğiniz sıcaklık değerini girin (Ör,40C,104F): 40c\n",
      "Sıcaklık değeri: 104 Fahrenheit derecedir.\n"
     ]
    }
   ],
   "source": [
    "sicaklik=input(\"Dönüştürmek istediğiniz sıcaklık değerini girin (Ör,40C,104F): \")\n",
    "derece= int(sicaklik[:-1])\n",
    "harf_degeri=sicaklik[-1]\n",
    "\n",
    "if harf_degeri.upper()==\"C\":\n",
    "    sonuc=int(round((9*derece)/5+32))\n",
    "    deger=\"Fahrenheit\"\n",
    "elif harf_degeri.upper()==\"F\":\n",
    "    sonuc=int(round((derece-32)*5/9))\n",
    "    deger=\"Celsius\"\n",
    "else:\n",
    "    print(\"Uygun bir değer girin.\")\n",
    "    quit()\n",
    "\n",
    "print(\"Sıcaklık değeri:\", sonuc, deger, \"derecedir.\")\n",
    "    "
   ]
  },
  {
   "cell_type": "markdown",
   "metadata": {},
   "source": [
    "**2-**1'den 50'ye kadar olan Fibonacci sayılarından oluşan bir liste oluşturun. İlk iki Fibonacci sayısı 1'dir. Sonraki sayılar, önceki iki sayının toplamıdır."
   ]
  },
  {
   "cell_type": "code",
   "execution_count": 2,
   "metadata": {},
   "outputs": [
    {
     "name": "stdout",
     "output_type": "stream",
     "text": [
      "[0, 1, 1, 2, 3, 5, 8, 13, 21, 34, 55, 89, 144, 233, 377, 610, 987, 1597, 2584, 4181, 6765, 10946, 17711, 28657, 46368, 75025, 121393, 196418, 317811, 514229, 832040, 1346269, 2178309, 3524578, 5702887, 9227465, 14930352, 24157817, 39088169, 63245986, 102334155, 165580141, 267914296, 433494437, 701408733, 1134903170, 1836311903, 2971215073, 4807526976, 7778742049, 12586269025]\n"
     ]
    }
   ],
   "source": [
    "fibonacci = [0,1]\n",
    "for i in range(2, 51):\n",
    "    sonraki_eleman = fibonacci[i-1] + fibonacci[i-2]\n",
    "    fibonacci.append(sonraki_eleman)\n",
    "\n",
    "print(fibonacci)"
   ]
  },
  {
   "cell_type": "markdown",
   "metadata": {},
   "source": [
    "**3-**Kullanıcıdan 3 kişinin adını ve yaşını alın ve en yaşlı olanın adını ekrana yazdırın.\n",
    "\n"
   ]
  },
  {
   "cell_type": "code",
   "execution_count": 3,
   "metadata": {},
   "outputs": [
    {
     "name": "stdout",
     "output_type": "stream",
     "text": [
      "Lütfen sizden istenen sırayla üç kişinin \n",
      "ismini ve sırasıyla bu kişilerin yaşlarını giriniz.\n",
      "Birinci kişinin ismi:Ali\n",
      "Birinci kişinin yaşı:21\n",
      "İkinci kişinin ismi:Mehmet\n",
      "İkinci kişinin yaşı:32\n",
      "Üçüncü kişinin ismi:Ahmet\n",
      "Üçüncü kişinin yaşı45\n",
      "Girmiş olduğunuz en yaşlı kişi: Ahmet\n"
     ]
    }
   ],
   "source": [
    "print(\"\"\"Lütfen sizden istenen sırayla üç kişinin \n",
    "ismini ve sırasıyla bu kişilerin yaşlarını giriniz.\"\"\")\n",
    "\n",
    "isim_1=input(\"Birinci kişinin ismi:\")\n",
    "yas_1=int(input(\"Birinci kişinin yaşı:\"))\n",
    "isim_2=input(\"İkinci kişinin ismi:\")\n",
    "yas_2=int(input(\"İkinci kişinin yaşı:\"))\n",
    "isim_3=input(\"Üçüncü kişinin ismi:\")\n",
    "yas_3=int(input(\"Üçüncü kişinin yaşı\"))\n",
    "\n",
    "liste=list((yas_1,yas_2,yas_3))\n",
    "liste.sort()\n",
    "\n",
    "if liste[-1]==yas_1:\n",
    "    print(\"Girmiş olduğunuz en yaşlı kişi: {}\".format(isim_1))\n",
    "elif liste[-1]==yas_2:\n",
    "    print(\"Girmiş olduğunuz en yaşlı kişi: {}\".format(isim_2))\n",
    "elif liste[-1]==yas_3:\n",
    "    print(\"Girmiş olduğunuz en yaşlı kişi: {}\".format(isim_3))"
   ]
  },
  {
   "cell_type": "markdown",
   "metadata": {},
   "source": [
    "**4-**Kullanıcının gireceği harfin ünlü harf mi yoksa ünsüz harf mi olduğunu bildiren bir kod yazın. Eğer kullanıcı birden fazla harf girerse, girdiği bir uyarı verecek ve ilk harf için değerlendirme yapmasını, harf dışında bir karakter (rakam vb.) girerse de uyarı vermesini sağlayın."
   ]
  },
  {
   "cell_type": "code",
   "execution_count": 4,
   "metadata": {},
   "outputs": [
    {
     "name": "stdout",
     "output_type": "stream",
     "text": [
      "Bir harf giriniz:23\n",
      "Gridiğiniz karakter geçersizdir. Lütfen bir harf giriniz.\n"
     ]
    }
   ],
   "source": [
    "unlu_harf=[\"A\",\"E\",\"U\",\"I\",\"O\",\"Ö\",\"Ü\",\"İ\"]\n",
    "unsuz_harf=[\"B\", \"C\", \"Ç\", \"D\", \"F\", \"G\", \"Ğ\", \"H\", \"J\", \"K\", \"L\", \"M\", \"N\", \"P\", \"R\", \"S\", \"Ş\", \"T\", \"V\", \"Y\", \"Z\"]\n",
    "\n",
    "harf=input(\"Bir harf giriniz:\")\n",
    "harf_sayisi=len(harf)\n",
    "\n",
    "if harf_sayisi>1 and harf.upper()[0] in unlu_harf:\n",
    "    print(\"Birden fazla karakter girdiniz. Girmiş olduğunuz ilk harf ünlüdür.\")\n",
    "elif harf_sayisi==1 and harf.upper() in unlu_harf:\n",
    "    print(\"Girmiş olduğunuz ilk harf ünlüdür.\")\n",
    "elif harf_sayisi>1 and harf.upper()[0] in unsuz_harf:\n",
    "    print(\"Birden fazla karakter girdiniz. Girmiş olduğunuz ilk harf ünsüzdür.\")\n",
    "elif harf_sayisi==1 and harf.upper() in unsuz_harf:\n",
    "    print(\"Girmiş olduğunuz ilk harf ünsüzdür.\")\n",
    "else:\n",
    "    print(\"Gridiğiniz karakter geçersizdir. Lütfen bir harf giriniz.\")"
   ]
  }
 ],
 "metadata": {
  "kernelspec": {
   "display_name": "Python 3",
   "language": "python",
   "name": "python3"
  },
  "language_info": {
   "codemirror_mode": {
    "name": "ipython",
    "version": 3
   },
   "file_extension": ".py",
   "mimetype": "text/x-python",
   "name": "python",
   "nbconvert_exporter": "python",
   "pygments_lexer": "ipython3",
   "version": "3.7.1"
  }
 },
 "nbformat": 4,
 "nbformat_minor": 2
}
