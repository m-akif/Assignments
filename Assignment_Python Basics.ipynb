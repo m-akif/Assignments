{
 "cells": [
  {
   "cell_type": "markdown",
   "metadata": {},
   "source": [
    "**(1)** Adınızı ve Soyadınızı tek satırda yazan bir kod yazın."
   ]
  },
  {
   "cell_type": "code",
   "execution_count": 1,
   "metadata": {},
   "outputs": [
    {
     "name": "stdout",
     "output_type": "stream",
     "text": [
      "Akif Oruç\n"
     ]
    }
   ],
   "source": [
    "print(\"Akif Oruç\")"
   ]
  },
  {
   "cell_type": "markdown",
   "metadata": {},
   "source": [
    "**(2)** Tek bir print() komutu kullanarak adınızı ve soyadınızı iki ayrı satırda gösteren bir kod yazın."
   ]
  },
  {
   "cell_type": "code",
   "execution_count": 2,
   "metadata": {},
   "outputs": [
    {
     "name": "stdout",
     "output_type": "stream",
     "text": [
      "Akif\n",
      "Oruç\n"
     ]
    }
   ],
   "source": [
    "print(\"\"\"Akif\n",
    "Oruç\"\"\")"
   ]
  },
  {
   "cell_type": "markdown",
   "metadata": {},
   "source": [
    "**(3)** Aşağıdaki metni yazdıran bir komut yazın. Tırnak işaretlerine dikkat edin. Bunların çıktıda görünmesi gerekiyor!"
   ]
  },
  {
   "cell_type": "code",
   "execution_count": 3,
   "metadata": {},
   "outputs": [
    {
     "name": "stdout",
     "output_type": "stream",
     "text": [
      "'Bu haftaki yarışta 1'inci olan kişi sezonu \"şampiyon\" olarak tamamlayacak'\n"
     ]
    }
   ],
   "source": [
    "print(\"\"\"'Bu haftaki yarışta 1'inci olan kişi sezonu \"şampiyon\" olarak tamamlayacak'\"\"\")"
   ]
  }
 ],
 "metadata": {
  "kernelspec": {
   "display_name": "Python 3",
   "language": "python",
   "name": "python3"
  },
  "language_info": {
   "codemirror_mode": {
    "name": "ipython",
    "version": 3
   },
   "file_extension": ".py",
   "mimetype": "text/x-python",
   "name": "python",
   "nbconvert_exporter": "python",
   "pygments_lexer": "ipython3",
   "version": "3.7.1"
  }
 },
 "nbformat": 4,
 "nbformat_minor": 2
}
