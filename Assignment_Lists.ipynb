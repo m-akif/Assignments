{
 "cells": [
  {
   "cell_type": "markdown",
   "metadata": {},
   "source": [
    "**(1)** Aşağıdaki listenin en küçük elemanı ile en büyük iki elemanının toplamını hesaklayın."
   ]
  },
  {
   "cell_type": "code",
   "execution_count": 5,
   "metadata": {},
   "outputs": [
    {
     "name": "stdout",
     "output_type": "stream",
     "text": [
      "[2, 12, 34, 37, 45, 54, 56, 66, 67, 76, 98]\n",
      "176\n"
     ]
    }
   ],
   "source": [
    "my_list = [34, 56, 76, 45, 2, 12, 67, 98, 37, 54, 66]\n",
    "my_list.sort()\n",
    "print(my_list)\n",
    "print(my_list[0]+my_list[-1]+my_list[-2])"
   ]
  },
  {
   "cell_type": "markdown",
   "metadata": {},
   "source": [
    "**(2)** Aşağıdaki listelerde öğrenci isimleri ve aldıkları notlar yer almakta. Kullanıcıdan öğrencinin adını alan ve bu öğrencinin aldığı notu ekrana yazdıran bir kod yazın.\n",
    "\n"
   ]
  },
  {
   "cell_type": "code",
   "execution_count": 14,
   "metadata": {},
   "outputs": [
    {
     "name": "stdout",
     "output_type": "stream",
     "text": [
      "Öğrenci ismi girin:Susan\n",
      "Susan isimli öğrencinin notu 87\n"
     ]
    }
   ],
   "source": [
    "names = [\"David\", \"Michael\", \"John\", \"James\", \"Greg\", \"Mark\", \"William\", \n",
    "          \"Richard\", \"Thomas\", \"Steven\", \"Mary\", \"Susan\", \"Maria\", \"Karen\", \n",
    "          \"Lisa\", \"Linda\", \"Donna\", \"Patricia\", \"Debra\", \"Eric\"]\n",
    "scores = [99, 87, 78, 86, 68, 94, 76, 97, 56, 98, 76, 87, 79, 90, 73, 93, 82, 69, 97, 98]\n",
    "\n",
    "name=input('Öğrenci ismi girin:')\n",
    "score=names.index(name)\n",
    "\n",
    "print(\"{} isimli öğrencinin notu {}\".format(name,scores[score]))"
   ]
  },
  {
   "cell_type": "markdown",
   "metadata": {},
   "source": [
    "**(3)** Aşağıdaki listede öğrencilerin aldığı notlar yer almaktadır. En yüksek not kaçtır ve kaç kişi bu notu almıştır?"
   ]
  },
  {
   "cell_type": "code",
   "execution_count": 21,
   "metadata": {},
   "outputs": [
    {
     "name": "stdout",
     "output_type": "stream",
     "text": [
      "En yüksek not:  99\n",
      "En yüksek notu alan kişi sayısı:  1\n"
     ]
    }
   ],
   "source": [
    "scores = [99, 87, 78, 86, 68, 94, 76, 97, 56, 98, 76, 87, 79, 90, 73, 93, 82, 69, 97, 98]\n",
    "scores.sort()\n",
    "max_score=scores[-1]\n",
    "\n",
    "print(\"En yüksek not: \",max_score)\n",
    "print(\"En yüksek notu alan kişi sayısı: \",scores.count(max_score))"
   ]
  },
  {
   "cell_type": "markdown",
   "metadata": {},
   "source": [
    "**(4)** Ayların kaç gün çektiğini karıştırabiliyoruz. Bunun için bir liste oluşturun ancak listenizde ay isimleri ve gün sayıları beraber bulunsun (ipucu: listenizin içinde başka bir veri yapısı yer alacak!)."
   ]
  },
  {
   "cell_type": "code",
   "execution_count": 44,
   "metadata": {},
   "outputs": [
    {
     "name": "stdout",
     "output_type": "stream",
     "text": [
      "[['Ocak', 31], ['Şubat', 28], ['Mart', 31], ['Nisan', 30], ['Mayıs', 31], ['Haziran', 30], ['Temmuz', 31], ['Ağustos', 31], ['Eylül', 30], ['Ekim', 31], ['Kasım', 30], ['Aralık', 31]]\n"
     ]
    }
   ],
   "source": [
    "aylar=[['Ocak',31],['Şubat',28],['Mart',31],['Nisan',30],['Mayıs',31],['Haziran',30],\n",
    "       ['Temmuz',31],['Ağustos',31],['Eylül',30],['Ekim',31],['Kasım',30],['Aralık',31]]\n",
    "print(aylar)"
   ]
  },
  {
   "cell_type": "markdown",
   "metadata": {},
   "source": [
    "**(5)** Şimdi ise mevsim mevsim ayrılmış ay listeleri oluşturun. Liste adlarına mevsimlerin adlarını verin."
   ]
  },
  {
   "cell_type": "code",
   "execution_count": 45,
   "metadata": {},
   "outputs": [],
   "source": [
    "kıs=[['Aralık',31],['Ocak',31],['Şubat',28]]\n",
    "ilkbahar=[['Mart',31],['Nisan',30],['Mayıs',31]]\n",
    "yaz=[['Haziran',30],['Temmuz',31],['Ağustos',31]]\n",
    "sonbahar=[['Eylül',30],['Ekim',31],['Kasım',30]]"
   ]
  },
  {
   "cell_type": "code",
   "execution_count": 46,
   "metadata": {},
   "outputs": [
    {
     "name": "stdout",
     "output_type": "stream",
     "text": [
      "Yaz mevsimi 92 gün sürüyor.\n"
     ]
    }
   ],
   "source": [
    "yaz_gunleri=yaz[0][1]+yaz[1][1]+yaz[2][1]\n",
    "print(\"Yaz mevsimi {} gün sürüyor.\".format(yaz_gunleri))"
   ]
  }
 ],
 "metadata": {
  "kernelspec": {
   "display_name": "Python 3",
   "language": "python",
   "name": "python3"
  },
  "language_info": {
   "codemirror_mode": {
    "name": "ipython",
    "version": 3
   },
   "file_extension": ".py",
   "mimetype": "text/x-python",
   "name": "python",
   "nbconvert_exporter": "python",
   "pygments_lexer": "ipython3",
   "version": "3.7.1"
  }
 },
 "nbformat": 4,
 "nbformat_minor": 2
}
