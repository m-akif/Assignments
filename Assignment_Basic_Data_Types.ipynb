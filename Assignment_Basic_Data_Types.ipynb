{
 "cells": [
  {
   "cell_type": "markdown",
   "metadata": {},
   "source": [
    "**(1)** Bitcoin'in iyi kazandırdığı 2017 yılı sonunda yatırım yaptığınızı farz edelim. Günlük ortalama %12 artan bitcoine 1000$ yatırmış olsaydınız bir hafta sonunda paranız ne kadar olurdu? Lütfen problemi Python kullanarak çözün."
   ]
  },
  {
   "cell_type": "code",
   "execution_count": 1,
   "metadata": {},
   "outputs": [
    {
     "name": "stdout",
     "output_type": "stream",
     "text": [
      "Bir hafta sonunda elde edilen toplam para:  2210.6814074060812\n"
     ]
    }
   ],
   "source": [
    "C=1000 # Anapara\n",
    "i=0.12 # Günlük artış oranı\n",
    "t=7    # Yatırım süresi\n",
    "print(\"Bir hafta sonunda elde edilen toplam para: \", C*(1+i)**7)"
   ]
  },
  {
   "cell_type": "markdown",
   "metadata": {},
   "source": [
    "**(2)** Tırnak içindeki metni Python ile yazdırın. Ancak rakamlar değişkenlerden gelmeli. Metin uzun olduğu için iki satıra yazmayı düşünebilirsiniz: \"Hafta başında 1000 dolarlık bitcoin aldığımızda günde ortalama %12 kazançla, bir hafta sonunda 1210.68 dolar kazanırdık\""
   ]
  },
  {
   "cell_type": "code",
   "execution_count": 2,
   "metadata": {},
   "outputs": [
    {
     "name": "stdout",
     "output_type": "stream",
     "text": [
      "Hafta başında 1000 dolarlık bitcoin aldığımızda\n",
      "günde ortalama %12 kazançla, bir hafta sonunda 1210.68 dolar kazanırdık.\n"
     ]
    }
   ],
   "source": [
    "x=1000       #anapara\n",
    "y=\"%12\"      #günlük kazanç\n",
    "z=1210.68    # kâr\n",
    "metin=\"\"\"Hafta başında {} dolarlık bitcoin aldığımızda\n",
    "günde ortalama {} kazançla, bir hafta sonunda {} dolar kazanırdık.\"\"\"\n",
    "print(metin.format(x,y,z))"
   ]
  },
  {
   "cell_type": "markdown",
   "metadata": {},
   "source": [
    "**(3)** Kullanıcıdan sıcaklık değerini Fahrenhiyt cinsinden alıp Celsius nnsinden ekrana yazdıran bir kod yazın. Dönüşüm için aşağıdaki formülü kullanabilirsiniz.\n",
    "\n",
    "C= (5/9)*(F-32)"
   ]
  },
  {
   "cell_type": "code",
   "execution_count": 3,
   "metadata": {},
   "outputs": [
    {
     "name": "stdout",
     "output_type": "stream",
     "text": [
      "Bir Fahrenhiyt değeri giriniz: 26\n",
      "Girdiğiniz Fahrenhiyt değerin Celsius karşılığı:  -3.3333333333333335\n"
     ]
    }
   ],
   "source": [
    "F= int(input(\"Bir Fahrenhiyt değeri giriniz: \"))\n",
    "C= (5/9)*(F-32)\n",
    "print(\"Girdiğiniz Fahrenhiyt değerin Celsius karşılığı: \", C)"
   ]
  },
  {
   "cell_type": "markdown",
   "metadata": {},
   "source": [
    "**(4)** Kullanıcıdan 3 rakamlı bir sayı alın ve bu üç rakamın toplamını döndürüen bir kod parçası yazın."
   ]
  },
  {
   "cell_type": "code",
   "execution_count": 4,
   "metadata": {},
   "outputs": [
    {
     "name": "stdout",
     "output_type": "stream",
     "text": [
      "Üç basamaklı bir sayı girin: 365\n",
      "Sayıdaki rakamların toplamı:  14\n"
     ]
    }
   ],
   "source": [
    "sayi=input(\"Üç basamaklı bir sayı girin: \")\n",
    "print(\"Sayıdaki rakamların toplamı: \", int(sayi[0])+int(sayi[1])+int(sayi[2]))"
   ]
  },
  {
   "cell_type": "markdown",
   "metadata": {},
   "source": [
    "**(5)** Bir dik üçgenin hipotenüs uzunluğunu hesaplayan bir kod parçası yazın. Dik kenarların uzunluğunu kullanıcıdan alın."
   ]
  },
  {
   "cell_type": "code",
   "execution_count": 7,
   "metadata": {},
   "outputs": [
    {
     "name": "stdout",
     "output_type": "stream",
     "text": [
      "Birinci dik kenar uzunluğu giriniz: 6\n",
      "ikinci dik kenar uzunluğu giriniz: 8\n",
      "Hipotenüs'ün uzunluğu:  10\n"
     ]
    }
   ],
   "source": [
    "import math\n",
    "x=int(input(\"Birinci dik kenar uzunluğu giriniz: \"))\n",
    "y=int(input(\"ikinci dik kenar uzunluğu giriniz: \"))\n",
    "hipotenusun_karesi=z=(x**2)+(y**2)\n",
    "print(\"Hipotenüs'ün uzunluğu: \", int(math.sqrt(z)))"
   ]
  }
 ],
 "metadata": {
  "kernelspec": {
   "display_name": "Python 3",
   "language": "python",
   "name": "python3"
  },
  "language_info": {
   "codemirror_mode": {
    "name": "ipython",
    "version": 3
   },
   "file_extension": ".py",
   "mimetype": "text/x-python",
   "name": "python",
   "nbconvert_exporter": "python",
   "pygments_lexer": "ipython3",
   "version": "3.7.1"
  }
 },
 "nbformat": 4,
 "nbformat_minor": 2
}
